{
 "cells": [
  {
   "cell_type": "code",
   "execution_count": 16,
   "id": "9c6ca8dc",
   "metadata": {},
   "outputs": [],
   "source": [
    "import pandas as pd\n",
    "import numpy as np"
   ]
  },
  {
   "cell_type": "code",
   "execution_count": 31,
   "id": "4be4cc47",
   "metadata": {},
   "outputs": [],
   "source": [
    "performance_df = pd.read_csv('Performance.csv')"
   ]
  },
  {
   "cell_type": "code",
   "execution_count": 32,
   "id": "7e599995",
   "metadata": {},
   "outputs": [
    {
     "data": {
      "text/html": [
       "<div>\n",
       "<style scoped>\n",
       "    .dataframe tbody tr th:only-of-type {\n",
       "        vertical-align: middle;\n",
       "    }\n",
       "\n",
       "    .dataframe tbody tr th {\n",
       "        vertical-align: top;\n",
       "    }\n",
       "\n",
       "    .dataframe thead th {\n",
       "        text-align: right;\n",
       "    }\n",
       "</style>\n",
       "<table border=\"1\" class=\"dataframe\">\n",
       "  <thead>\n",
       "    <tr style=\"text-align: right;\">\n",
       "      <th></th>\n",
       "      <th>Running</th>\n",
       "      <th>Swimming</th>\n",
       "      <th>Cycling</th>\n",
       "      <th>Diving</th>\n",
       "      <th>Performance</th>\n",
       "    </tr>\n",
       "  </thead>\n",
       "  <tbody>\n",
       "    <tr>\n",
       "      <th>0</th>\n",
       "      <td>14.96</td>\n",
       "      <td>41.76</td>\n",
       "      <td>1024.07</td>\n",
       "      <td>73.17</td>\n",
       "      <td>463.26</td>\n",
       "    </tr>\n",
       "    <tr>\n",
       "      <th>1</th>\n",
       "      <td>25.18</td>\n",
       "      <td>62.96</td>\n",
       "      <td>1020.04</td>\n",
       "      <td>57.10</td>\n",
       "      <td>444.37</td>\n",
       "    </tr>\n",
       "    <tr>\n",
       "      <th>2</th>\n",
       "      <td>5.11</td>\n",
       "      <td>39.40</td>\n",
       "      <td>1012.16</td>\n",
       "      <td>92.14</td>\n",
       "      <td>488.56</td>\n",
       "    </tr>\n",
       "    <tr>\n",
       "      <th>3</th>\n",
       "      <td>20.86</td>\n",
       "      <td>57.32</td>\n",
       "      <td>1010.24</td>\n",
       "      <td>76.64</td>\n",
       "      <td>446.48</td>\n",
       "    </tr>\n",
       "    <tr>\n",
       "      <th>4</th>\n",
       "      <td>10.82</td>\n",
       "      <td>37.50</td>\n",
       "      <td>1009.23</td>\n",
       "      <td>57.10</td>\n",
       "      <td>473.90</td>\n",
       "    </tr>\n",
       "  </tbody>\n",
       "</table>\n",
       "</div>"
      ],
      "text/plain": [
       "   Running  Swimming  Cycling  Diving  Performance\n",
       "0    14.96     41.76  1024.07   73.17       463.26\n",
       "1    25.18     62.96  1020.04   57.10       444.37\n",
       "2     5.11     39.40  1012.16   92.14       488.56\n",
       "3    20.86     57.32  1010.24   76.64       446.48\n",
       "4    10.82     37.50  1009.23   57.10       473.90"
      ]
     },
     "execution_count": 32,
     "metadata": {},
     "output_type": "execute_result"
    }
   ],
   "source": [
    "performance_df.head()"
   ]
  },
  {
   "cell_type": "code",
   "execution_count": 33,
   "id": "88930216",
   "metadata": {},
   "outputs": [],
   "source": [
    "X = performance_df.iloc[:, :-1].values\n",
    "y = performance_df.iloc[:, -1].values"
   ]
  },
  {
   "cell_type": "code",
   "execution_count": 34,
   "id": "30fe6f40",
   "metadata": {},
   "outputs": [],
   "source": [
    "from sklearn.model_selection import train_test_split\n",
    "\n",
    "X_train, X_test, y_train, y_test = train_test_split(X, y, test_size = 0.2, random_state = 0)"
   ]
  },
  {
   "cell_type": "code",
   "execution_count": 35,
   "id": "a04eaa08",
   "metadata": {},
   "outputs": [
    {
     "data": {
      "text/plain": [
       "0.5160787990361344"
      ]
     },
     "execution_count": 35,
     "metadata": {},
     "output_type": "execute_result"
    }
   ],
   "source": [
    "from sklearn.metrics import r2_score\n",
    "from sklearn.ensemble import RandomForestRegressor \n",
    "\n",
    "from sklearn.metrics import mean_absolute_error\n",
    "from sklearn.metrics import mean_absolute_percentage_error\n",
    "mean_absolute_percentage_error(y_test, y_pred) * 100"
   ]
  },
  {
   "cell_type": "code",
   "execution_count": 36,
   "id": "ebf17dd1",
   "metadata": {},
   "outputs": [
    {
     "name": "stdout",
     "output_type": "stream",
     "text": [
      "[[433.813 431.23 ]\n",
      " [457.835 460.01 ]\n",
      " [462.811 461.14 ]\n",
      " ...\n",
      " [469.619 473.26 ]\n",
      " [439.37  438.   ]\n",
      " [460.557 463.28 ]]\n",
      "R2 score: 0.9618130872185973\n",
      "MAE: 2.4364190177638467\n",
      "MAPE: 0.005364880614854084\n"
     ]
    }
   ],
   "source": [
    "regressor = RandomForestRegressor(n_estimators = 10, random_state = 0)       #trying with 10\n",
    "regressor.fit(X_train, y_train)\n",
    "y_pred = regressor.predict(X_test)\n",
    "\n",
    "print(np.concatenate((y_pred.reshape(len(y_pred), 1), y_test.reshape(len(y_pred), 1)), 1))\n",
    "print('R2 score:', r2_score(y_test, y_pred))\n",
    "print('MAE:', mean_absolute_error(y_test, y_pred))\n",
    "print('MAPE:', mean_absolute_percentage_error(y_test, y_pred))"
   ]
  },
  {
   "cell_type": "markdown",
   "id": "df745025",
   "metadata": {},
   "source": [
    "### trying now with 100"
   ]
  },
  {
   "cell_type": "code",
   "execution_count": 37,
   "id": "2db3ad82",
   "metadata": {},
   "outputs": [
    {
     "name": "stdout",
     "output_type": "stream",
     "text": [
      "[[433.8432 431.23  ]\n",
      " [457.7996 460.01  ]\n",
      " [463.3659 461.14  ]\n",
      " ...\n",
      " [468.953  473.26  ]\n",
      " [439.0099 438.    ]\n",
      " [461.1612 463.28  ]]\n",
      "R2 score: 0.9651611875204344\n",
      "MAE: 2.3433957680250783\n",
      "MAPE: 0.005160787990361344\n"
     ]
    }
   ],
   "source": [
    "regressor = RandomForestRegressor(n_estimators = 100, random_state = 0)      \n",
    "regressor.fit(X_train, y_train)\n",
    "y_pred = regressor.predict(X_test)\n",
    "\n",
    "print(np.concatenate((y_pred.reshape(len(y_pred), 1), y_test.reshape(len(y_pred), 1)), 1))\n",
    "print('R2 score:', r2_score(y_test, y_pred))\n",
    "print('MAE:', mean_absolute_error(y_test, y_pred))\n",
    "print('MAPE:', mean_absolute_percentage_error(y_test, y_pred))"
   ]
  },
  {
   "cell_type": "markdown",
   "id": "0a02d739",
   "metadata": {},
   "source": [
    "## MAE - Mean Absolute Error\n",
    "\n",
    "- Error - difference between predited value and the actual value\n",
    "- Absolute - we are taking the absolute value of the error eg we are making all of them positive (-3 -> 3, 3 -> 3)\n",
    "- Mean - the mean of those absolute error\n",
    "\n",
    "The lower the better!\n",
    "MAE: /  MAPE:\n",
    "\n",
    "\n",
    "The highest is better! R2 score:"
   ]
  },
  {
   "cell_type": "markdown",
   "id": "59c9ec80",
   "metadata": {},
   "source": [
    "### Creating a predicte:"
   ]
  },
  {
   "cell_type": "code",
   "execution_count": 38,
   "id": "d22102f9",
   "metadata": {},
   "outputs": [
    {
     "data": {
      "text/plain": [
       "array([483.9991])"
      ]
     },
     "execution_count": 38,
     "metadata": {},
     "output_type": "execute_result"
    }
   ],
   "source": [
    "regressor.predict(np.array([[7.5, 49, 973.03, 67.35]]))\n",
    "                            # Running, Swimming, Cycling, Diving"
   ]
  },
  {
   "cell_type": "markdown",
   "id": "e5b3f2fb",
   "metadata": {},
   "source": [
    "answer: is pretty good these terms because we will get a good performance, which is our target on this dataset"
   ]
  },
  {
   "cell_type": "code",
   "execution_count": 39,
   "id": "9d5ea91d",
   "metadata": {},
   "outputs": [
    {
     "data": {
      "text/plain": [
       "array([487.4708])"
      ]
     },
     "execution_count": 39,
     "metadata": {},
     "output_type": "execute_result"
    }
   ],
   "source": [
    "regressor.predict(np.array([[5.11, 39.40, 1012.16, 92.14]]))"
   ]
  },
  {
   "cell_type": "code",
   "execution_count": 40,
   "id": "156d0394",
   "metadata": {},
   "outputs": [
    {
     "data": {
      "text/plain": [
       "Running           5.11\n",
       "Swimming         39.40\n",
       "Cycling        1012.16\n",
       "Diving           92.14\n",
       "Performance     488.56\n",
       "Name: 2, dtype: float64"
      ]
     },
     "execution_count": 40,
     "metadata": {},
     "output_type": "execute_result"
    }
   ],
   "source": [
    "performance_df.iloc[2, :]"
   ]
  },
  {
   "cell_type": "code",
   "execution_count": null,
   "id": "a8db0f20",
   "metadata": {},
   "outputs": [],
   "source": []
  }
 ],
 "metadata": {
  "kernelspec": {
   "display_name": "Python 3 (ipykernel)",
   "language": "python",
   "name": "python3"
  },
  "language_info": {
   "codemirror_mode": {
    "name": "ipython",
    "version": 3
   },
   "file_extension": ".py",
   "mimetype": "text/x-python",
   "name": "python",
   "nbconvert_exporter": "python",
   "pygments_lexer": "ipython3",
   "version": "3.11.5"
  }
 },
 "nbformat": 4,
 "nbformat_minor": 5
}
